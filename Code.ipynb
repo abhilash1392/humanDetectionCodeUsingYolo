{
 "cells": [
  {
   "cell_type": "code",
   "execution_count": 45,
   "id": "241b5cd9",
   "metadata": {},
   "outputs": [
    {
     "name": "stdout",
     "output_type": "stream",
     "text": [
      "Human Detected\n"
     ]
    }
   ],
   "source": [
    "### import cv2\n",
    "import numpy as np\n",
    "import matplotlib.pyplot as plt \n",
    "\n",
    "## Reading the image data\n",
    "image = plt.imread('images/image.jpg')\n",
    "\n",
    "## Getting the classes names from coco\n",
    "classes = None\n",
    "with open('darknet/data/coco.names', 'r') as f:\n",
    "    classes = [line.strip() for line in f.readlines()]\n",
    "\n",
    "Width = image.shape[1]\n",
    "Height = image.shape[0]\n",
    "\n",
    "# read pre-trained model and config file\n",
    "net = cv2.dnn.readNet('darknet/yolov3.weights', 'darknet/cfg/yolov3.cfg')\n",
    "\n",
    "# create input blob \n",
    "# set input blob for the network\n",
    "net.setInput(cv2.dnn.blobFromImage(image, 0.00392, (416,416), (0,0,0), True, crop=False))\n",
    "\n",
    "# run inference through the network\n",
    "# and gather predictions from output layers\n",
    "\n",
    "layer_names = net.getLayerNames()\n",
    "output_layers = [layer_names[i[0] - 1] for i in net.getUnconnectedOutLayers()]\n",
    "outs = net.forward(output_layers)\n",
    "\n",
    "\n",
    "class_ids = []\n",
    "confidences = []\n",
    "boxes = []\n",
    "labels = {}\n",
    "#create bounding box \n",
    "for out in outs:\n",
    "    for detection in out:\n",
    "        scores = detection[5:]\n",
    "        class_id = np.argmax(scores)\n",
    "        confidence = scores[class_id]\n",
    "        if confidence > 0.5:\n",
    "            labels[classes[class_id]] =confidence\n",
    "\n",
    "\n",
    "if 'person' in labels.keys() and labels['person']>0.6:\n",
    "    print('Human Detected')"
   ]
  },
  {
   "cell_type": "code",
   "execution_count": 41,
   "id": "811616aa",
   "metadata": {},
   "outputs": [
    {
     "data": {
      "text/plain": [
       "{'person': 0.78484476}"
      ]
     },
     "execution_count": 41,
     "metadata": {},
     "output_type": "execute_result"
    }
   ],
   "source": [
    "labels"
   ]
  },
  {
   "cell_type": "code",
   "execution_count": 1,
   "id": "96ae3454",
   "metadata": {},
   "outputs": [],
   "source": [
    "# plt.imshow(image)\n",
    "    "
   ]
  }
 ],
 "metadata": {
  "interpreter": {
   "hash": "1c227f761eea327030dad6cbfe224ca9684f38ef611af0e724645165fb048280"
  },
  "kernelspec": {
   "display_name": "Python 3.8.10 64-bit ('venv': venv)",
   "name": "python3"
  },
  "language_info": {
   "codemirror_mode": {
    "name": "ipython",
    "version": 3
   },
   "file_extension": ".py",
   "mimetype": "text/x-python",
   "name": "python",
   "nbconvert_exporter": "python",
   "pygments_lexer": "ipython3",
   "version": "3.8.10"
  }
 },
 "nbformat": 4,
 "nbformat_minor": 5
}
